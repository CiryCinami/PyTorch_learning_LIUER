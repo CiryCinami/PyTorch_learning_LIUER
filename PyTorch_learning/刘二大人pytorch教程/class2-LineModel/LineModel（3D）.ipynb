{
 "cells": [
  {
   "cell_type": "code",
   "execution_count": null,
   "id": "initial_id",
   "metadata": {
    "collapsed": true
   },
   "outputs": [],
   "source": [
    "import numpy as np\n",
    "import matplotlib.pyplot as plt\n",
    "from matplotlib import cm\n",
    "\n",
    "# 训练数据\n",
    "x_data = [1.0, 2.0, 3.0]\n",
    "y_data = [2.0, 4.0, 6.0]\n",
    "\n",
    "# 生成参数网格\n",
    "w_cor = np.arange(0.0, 4.0, 0.1)\n",
    "b_cor = np.arange(-2.0, 2.1, 0.1)\n",
    "w, b = np.meshgrid(w_cor, b_cor)\n",
    "\n",
    "# 计算MSE损失\n",
    "mse = np.zeros(w.shape)\n",
    "for x, y in zip(x_data, y_data):\n",
    "    y_pred = w * x + b  # 模型预测\n",
    "    mse += (y_pred - y)**2  # 累加平方误差\n",
    "mse /= len(x_data)  # 计算均值\n",
    "\n",
    "# 创建3D绘图\n",
    "fig = plt.figure(figsize=(10, 6))\n",
    "ax = fig.add_subplot(111, projection='3d')  # 更现代的3D坐标轴创建方式\n",
    "\n",
    "# 曲面图参数配置\n",
    "surf = ax.plot_surface(\n",
    "    w, b, mse,\n",
    "    rstride=1,  # 行步长（分辨率）\n",
    "    cstride=1,  # 列步长\n",
    "    cmap=cm.rainbow,\n",
    "    antialiased=True\n",
    ")\n",
    "\n",
    "# 坐标轴标签\n",
    "ax.set_xlabel('Weight (w)', fontsize=12, labelpad=10)\n",
    "ax.set_ylabel('Bias (b)', fontsize=12, labelpad=10)\n",
    "ax.set_zlabel('Loss', fontsize=12, labelpad=10)\n",
    "\n",
    "# 颜色条\n",
    "fig.colorbar(surf, shrink=0.6, aspect=10, pad=0.12)\n",
    "\n",
    "# 视角调整\n",
    "ax.view_init(elev=30, azim=240)  # 仰角30度，方位角240度\n",
    "\n",
    "plt.show()"
   ]
  }
 ],
 "metadata": {
  "kernelspec": {
   "display_name": "Python 3",
   "language": "python",
   "name": "python3"
  },
  "language_info": {
   "codemirror_mode": {
    "name": "ipython",
    "version": 2
   },
   "file_extension": ".py",
   "mimetype": "text/x-python",
   "name": "python",
   "nbconvert_exporter": "python",
   "pygments_lexer": "ipython2",
   "version": "2.7.6"
  }
 },
 "nbformat": 4,
 "nbformat_minor": 5
}
